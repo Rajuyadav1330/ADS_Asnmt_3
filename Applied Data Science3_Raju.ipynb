{
 "cells": [
  {
   "cell_type": "markdown",
   "id": "23561c40",
   "metadata": {},
   "source": [
    "**NAME - Raju**"
   ]
  },
  {
   "cell_type": "code",
   "execution_count": null,
   "id": "424cc15f",
   "metadata": {},
   "outputs": [],
   "source": [
    "pip install wbgapi"
   ]
  },
  {
   "cell_type": "code",
   "execution_count": 1,
   "id": "6a4e2270",
   "metadata": {},
   "outputs": [],
   "source": [
    "import pandas as pd\n",
    "import wbgapi as wb\n",
    "import sklearn\n",
    "import seaborn as sns\n",
    "from sklearn.datasets import make_blobs\n",
    "from numpy import array, exp\n",
    "import itertools as iter\n",
    "from sklearn.cluster import KMeans\n",
    "import matplotlib.pyplot as plt\n",
    "from scipy.optimize import curve_fit"
   ]
  },
  {
   "cell_type": "code",
   "execution_count": 2,
   "id": "3fe930c1",
   "metadata": {},
   "outputs": [],
   "source": [
    "ecn_indc = ['NE.DAB.TOTL.ZS','NY.GDP.MKTP.CD']\n",
    "cod_contry = [\"BMU\",\"CHE\",'DNK','BGR','BGD','ARG','GBR','IND','BRA','JAM']\n",
    "cli_indc=['EG.ELC.RNWX.KH','EN.ATM.CO2E.GF.KT']\n",
    "ecn_data  = wb.data.DataFrame(ecn_indc, cod_contry, mrv=7)\n",
    "cli_data  = wb.data.DataFrame(cli_indc, cod_contry, mrv=7)\n",
    "#NE.DAB.TOTL.ZS: Total expenditure\n",
    "#NY.GDP.MKTP.CD: USD GDP of a country\n",
    "#EG.ELC.RNWX.KH:\tElectricity production from renewable sources %\n",
    "#EN.ATM.CO2E.GF.KT: Emissions of Carbon dioxide from fuel "
   ]
  },
  {
   "cell_type": "code",
   "execution_count": 3,
   "id": "5f0908f8",
   "metadata": {},
   "outputs": [
    {
     "data": {
      "text/html": [
       "<div>\n",
       "<style scoped>\n",
       "    .dataframe tbody tr th:only-of-type {\n",
       "        vertical-align: middle;\n",
       "    }\n",
       "\n",
       "    .dataframe tbody tr th {\n",
       "        vertical-align: top;\n",
       "    }\n",
       "\n",
       "    .dataframe thead th {\n",
       "        text-align: right;\n",
       "    }\n",
       "</style>\n",
       "<table border=\"1\" class=\"dataframe\">\n",
       "  <thead>\n",
       "    <tr style=\"text-align: right;\">\n",
       "      <th></th>\n",
       "      <th>series</th>\n",
       "      <th>NE.DAB.TOTL.ZS</th>\n",
       "      <th>NY.GDP.MKTP.CD</th>\n",
       "    </tr>\n",
       "    <tr>\n",
       "      <th>Ctry_Code</th>\n",
       "      <th>Year</th>\n",
       "      <th></th>\n",
       "      <th></th>\n",
       "    </tr>\n",
       "  </thead>\n",
       "  <tbody>\n",
       "    <tr>\n",
       "      <th rowspan=\"7\" valign=\"top\">ARG</th>\n",
       "      <th>2014</th>\n",
       "      <td>99.595836</td>\n",
       "      <td>5.263197e+11</td>\n",
       "    </tr>\n",
       "    <tr>\n",
       "      <th>2015</th>\n",
       "      <td>101.074922</td>\n",
       "      <td>5.947493e+11</td>\n",
       "    </tr>\n",
       "    <tr>\n",
       "      <th>2016</th>\n",
       "      <td>101.039698</td>\n",
       "      <td>5.575314e+11</td>\n",
       "    </tr>\n",
       "    <tr>\n",
       "      <th>2017</th>\n",
       "      <td>102.649034</td>\n",
       "      <td>6.436287e+11</td>\n",
       "    </tr>\n",
       "    <tr>\n",
       "      <th>2018</th>\n",
       "      <td>101.889164</td>\n",
       "      <td>5.248197e+11</td>\n",
       "    </tr>\n",
       "    <tr>\n",
       "      <th>2019</th>\n",
       "      <td>96.994042</td>\n",
       "      <td>4.519324e+11</td>\n",
       "    </tr>\n",
       "    <tr>\n",
       "      <th>2020</th>\n",
       "      <td>93.070816</td>\n",
       "      <td>3.892881e+11</td>\n",
       "    </tr>\n",
       "    <tr>\n",
       "      <th rowspan=\"2\" valign=\"top\">BGD</th>\n",
       "      <th>2014</th>\n",
       "      <td>106.487933</td>\n",
       "      <td>1.728855e+11</td>\n",
       "    </tr>\n",
       "    <tr>\n",
       "      <th>2015</th>\n",
       "      <td>106.728219</td>\n",
       "      <td>1.950787e+11</td>\n",
       "    </tr>\n",
       "  </tbody>\n",
       "</table>\n",
       "</div>"
      ],
      "text/plain": [
       "series          NE.DAB.TOTL.ZS  NY.GDP.MKTP.CD\n",
       "Ctry_Code Year                                \n",
       "ARG       2014       99.595836    5.263197e+11\n",
       "          2015      101.074922    5.947493e+11\n",
       "          2016      101.039698    5.575314e+11\n",
       "          2017      102.649034    6.436287e+11\n",
       "          2018      101.889164    5.248197e+11\n",
       "          2019       96.994042    4.519324e+11\n",
       "          2020       93.070816    3.892881e+11\n",
       "BGD       2014      106.487933    1.728855e+11\n",
       "          2015      106.728219    1.950787e+11"
      ]
     },
     "execution_count": 3,
     "metadata": {},
     "output_type": "execute_result"
    }
   ],
   "source": [
    "# ECNMY INDICATOR\n",
    "ecn_data.columns = [b.replace('YR','') for b in ecn_data.columns]      \n",
    "ecn_data=ecn_data.stack().unstack(level=1)                             \n",
    "ecn_data.index.names = ['Ctry_Code', 'Year']                           \n",
    "ecn_data.columns                                                     \n",
    "ecn_data.fillna(0)\n",
    "ecn_data.head(9)"
   ]
  },
  {
   "cell_type": "code",
   "execution_count": 4,
   "id": "47bc5635",
   "metadata": {},
   "outputs": [
    {
     "data": {
      "text/html": [
       "<div>\n",
       "<style scoped>\n",
       "    .dataframe tbody tr th:only-of-type {\n",
       "        vertical-align: middle;\n",
       "    }\n",
       "\n",
       "    .dataframe tbody tr th {\n",
       "        vertical-align: top;\n",
       "    }\n",
       "\n",
       "    .dataframe thead th {\n",
       "        text-align: right;\n",
       "    }\n",
       "</style>\n",
       "<table border=\"1\" class=\"dataframe\">\n",
       "  <thead>\n",
       "    <tr style=\"text-align: right;\">\n",
       "      <th></th>\n",
       "      <th>series</th>\n",
       "      <th>EG.ELC.RNWX.KH</th>\n",
       "      <th>EN.ATM.CO2E.GF.KT</th>\n",
       "    </tr>\n",
       "    <tr>\n",
       "      <th>Ctry_Code</th>\n",
       "      <th>Year</th>\n",
       "      <th></th>\n",
       "      <th></th>\n",
       "    </tr>\n",
       "  </thead>\n",
       "  <tbody>\n",
       "    <tr>\n",
       "      <th rowspan=\"7\" valign=\"top\">ARG</th>\n",
       "      <th>2010</th>\n",
       "      <td>2.220000e+09</td>\n",
       "      <td>86999.575</td>\n",
       "    </tr>\n",
       "    <tr>\n",
       "      <th>2011</th>\n",
       "      <td>2.155000e+09</td>\n",
       "      <td>92661.423</td>\n",
       "    </tr>\n",
       "    <tr>\n",
       "      <th>2012</th>\n",
       "      <td>2.752000e+09</td>\n",
       "      <td>95459.344</td>\n",
       "    </tr>\n",
       "    <tr>\n",
       "      <th>2013</th>\n",
       "      <td>2.942000e+09</td>\n",
       "      <td>90835.257</td>\n",
       "    </tr>\n",
       "    <tr>\n",
       "      <th>2014</th>\n",
       "      <td>2.719000e+09</td>\n",
       "      <td>96691.456</td>\n",
       "    </tr>\n",
       "    <tr>\n",
       "      <th>2015</th>\n",
       "      <td>2.752000e+09</td>\n",
       "      <td>98359.941</td>\n",
       "    </tr>\n",
       "    <tr>\n",
       "      <th>2016</th>\n",
       "      <td>NaN</td>\n",
       "      <td>102268.963</td>\n",
       "    </tr>\n",
       "    <tr>\n",
       "      <th rowspan=\"2\" valign=\"top\">BGD</th>\n",
       "      <th>2010</th>\n",
       "      <td>0.000000e+00</td>\n",
       "      <td>39431.251</td>\n",
       "    </tr>\n",
       "    <tr>\n",
       "      <th>2011</th>\n",
       "      <td>0.000000e+00</td>\n",
       "      <td>39658.605</td>\n",
       "    </tr>\n",
       "  </tbody>\n",
       "</table>\n",
       "</div>"
      ],
      "text/plain": [
       "series          EG.ELC.RNWX.KH  EN.ATM.CO2E.GF.KT\n",
       "Ctry_Code Year                                   \n",
       "ARG       2010    2.220000e+09          86999.575\n",
       "          2011    2.155000e+09          92661.423\n",
       "          2012    2.752000e+09          95459.344\n",
       "          2013    2.942000e+09          90835.257\n",
       "          2014    2.719000e+09          96691.456\n",
       "          2015    2.752000e+09          98359.941\n",
       "          2016             NaN         102268.963\n",
       "BGD       2010    0.000000e+00          39431.251\n",
       "          2011    0.000000e+00          39658.605"
      ]
     },
     "execution_count": 4,
     "metadata": {},
     "output_type": "execute_result"
    }
   ],
   "source": [
    "# CLMATE INDICATOR\n",
    "cli_data.columns = [c.replace('YR','') for c in cli_data.columns]      \n",
    "cli_data=cli_data.stack().unstack(level=1)                             \n",
    "cli_data.index.names = ['Ctry_Code', 'Year']                           \n",
    "cli_data.columns                                                     \n",
    "cli_data.fillna(0)\n",
    "cli_data.head(9)"
   ]
  },
  {
   "cell_type": "code",
   "execution_count": 5,
   "id": "ddc0c3d0",
   "metadata": {},
   "outputs": [],
   "source": [
    "#Preprtion of the data\n",
    "dfrm1=ecn_data.reset_index()\n",
    "dfrm3=dfrm1.fillna(0)\n",
    "dfrm2=cli_data.reset_index()\n",
    "dfrm4=dfrm2.fillna(0)"
   ]
  },
  {
   "cell_type": "code",
   "execution_count": 6,
   "id": "b637c7e9",
   "metadata": {},
   "outputs": [
    {
     "data": {
      "text/html": [
       "<div>\n",
       "<style scoped>\n",
       "    .dataframe tbody tr th:only-of-type {\n",
       "        vertical-align: middle;\n",
       "    }\n",
       "\n",
       "    .dataframe tbody tr th {\n",
       "        vertical-align: top;\n",
       "    }\n",
       "\n",
       "    .dataframe thead th {\n",
       "        text-align: right;\n",
       "    }\n",
       "</style>\n",
       "<table border=\"1\" class=\"dataframe\">\n",
       "  <thead>\n",
       "    <tr style=\"text-align: right;\">\n",
       "      <th>series</th>\n",
       "      <th>Ctry_Code</th>\n",
       "      <th>Year</th>\n",
       "      <th>NE.DAB.TOTL.ZS</th>\n",
       "      <th>NY.GDP.MKTP.CD</th>\n",
       "      <th>EG.ELC.RNWX.KH</th>\n",
       "      <th>EN.ATM.CO2E.GF.KT</th>\n",
       "    </tr>\n",
       "  </thead>\n",
       "  <tbody>\n",
       "    <tr>\n",
       "      <th>0</th>\n",
       "      <td>ARG</td>\n",
       "      <td>2014</td>\n",
       "      <td>99.595836</td>\n",
       "      <td>5.263197e+11</td>\n",
       "      <td>2.719000e+09</td>\n",
       "      <td>96691.456</td>\n",
       "    </tr>\n",
       "    <tr>\n",
       "      <th>1</th>\n",
       "      <td>ARG</td>\n",
       "      <td>2015</td>\n",
       "      <td>101.074922</td>\n",
       "      <td>5.947493e+11</td>\n",
       "      <td>2.752000e+09</td>\n",
       "      <td>98359.941</td>\n",
       "    </tr>\n",
       "    <tr>\n",
       "      <th>2</th>\n",
       "      <td>ARG</td>\n",
       "      <td>2016</td>\n",
       "      <td>101.039698</td>\n",
       "      <td>5.575314e+11</td>\n",
       "      <td>0.000000e+00</td>\n",
       "      <td>102268.963</td>\n",
       "    </tr>\n",
       "    <tr>\n",
       "      <th>3</th>\n",
       "      <td>BGD</td>\n",
       "      <td>2014</td>\n",
       "      <td>106.487933</td>\n",
       "      <td>1.728855e+11</td>\n",
       "      <td>1.490000e+08</td>\n",
       "      <td>45969.512</td>\n",
       "    </tr>\n",
       "    <tr>\n",
       "      <th>4</th>\n",
       "      <td>BGD</td>\n",
       "      <td>2015</td>\n",
       "      <td>106.728219</td>\n",
       "      <td>1.950787e+11</td>\n",
       "      <td>1.580000e+08</td>\n",
       "      <td>48782.101</td>\n",
       "    </tr>\n",
       "    <tr>\n",
       "      <th>5</th>\n",
       "      <td>BGD</td>\n",
       "      <td>2016</td>\n",
       "      <td>104.674816</td>\n",
       "      <td>2.214152e+11</td>\n",
       "      <td>0.000000e+00</td>\n",
       "      <td>53593.205</td>\n",
       "    </tr>\n",
       "    <tr>\n",
       "      <th>6</th>\n",
       "      <td>BGR</td>\n",
       "      <td>2014</td>\n",
       "      <td>101.085516</td>\n",
       "      <td>5.708201e+10</td>\n",
       "      <td>2.783000e+09</td>\n",
       "      <td>5412.492</td>\n",
       "    </tr>\n",
       "    <tr>\n",
       "      <th>7</th>\n",
       "      <td>BGR</td>\n",
       "      <td>2015</td>\n",
       "      <td>99.100768</td>\n",
       "      <td>5.078200e+10</td>\n",
       "      <td>3.107000e+09</td>\n",
       "      <td>5944.207</td>\n",
       "    </tr>\n",
       "    <tr>\n",
       "      <th>8</th>\n",
       "      <td>BGR</td>\n",
       "      <td>2016</td>\n",
       "      <td>95.092863</td>\n",
       "      <td>5.395390e+10</td>\n",
       "      <td>0.000000e+00</td>\n",
       "      <td>6153.226</td>\n",
       "    </tr>\n",
       "    <tr>\n",
       "      <th>9</th>\n",
       "      <td>BMU</td>\n",
       "      <td>2014</td>\n",
       "      <td>73.926721</td>\n",
       "      <td>6.413988e+09</td>\n",
       "      <td>0.000000e+00</td>\n",
       "      <td>0.000</td>\n",
       "    </tr>\n",
       "  </tbody>\n",
       "</table>\n",
       "</div>"
      ],
      "text/plain": [
       "series Ctry_Code  Year  NE.DAB.TOTL.ZS  NY.GDP.MKTP.CD  EG.ELC.RNWX.KH  \\\n",
       "0            ARG  2014       99.595836    5.263197e+11    2.719000e+09   \n",
       "1            ARG  2015      101.074922    5.947493e+11    2.752000e+09   \n",
       "2            ARG  2016      101.039698    5.575314e+11    0.000000e+00   \n",
       "3            BGD  2014      106.487933    1.728855e+11    1.490000e+08   \n",
       "4            BGD  2015      106.728219    1.950787e+11    1.580000e+08   \n",
       "5            BGD  2016      104.674816    2.214152e+11    0.000000e+00   \n",
       "6            BGR  2014      101.085516    5.708201e+10    2.783000e+09   \n",
       "7            BGR  2015       99.100768    5.078200e+10    3.107000e+09   \n",
       "8            BGR  2016       95.092863    5.395390e+10    0.000000e+00   \n",
       "9            BMU  2014       73.926721    6.413988e+09    0.000000e+00   \n",
       "\n",
       "series  EN.ATM.CO2E.GF.KT  \n",
       "0               96691.456  \n",
       "1               98359.941  \n",
       "2              102268.963  \n",
       "3               45969.512  \n",
       "4               48782.101  \n",
       "5               53593.205  \n",
       "6                5412.492  \n",
       "7                5944.207  \n",
       "8                6153.226  \n",
       "9                   0.000  "
      ]
     },
     "execution_count": 6,
     "metadata": {},
     "output_type": "execute_result"
    }
   ],
   "source": [
    "#Getting the indicators for all the countries\n",
    "dfrm = pd.merge(dfrm3, dfrm4)\n",
    "dfrm.head(10)"
   ]
  },
  {
   "cell_type": "code",
   "execution_count": 7,
   "id": "c31b80a9",
   "metadata": {},
   "outputs": [
    {
     "data": {
      "text/html": [
       "<div>\n",
       "<style scoped>\n",
       "    .dataframe tbody tr th:only-of-type {\n",
       "        vertical-align: middle;\n",
       "    }\n",
       "\n",
       "    .dataframe tbody tr th {\n",
       "        vertical-align: top;\n",
       "    }\n",
       "\n",
       "    .dataframe thead th {\n",
       "        text-align: right;\n",
       "    }\n",
       "</style>\n",
       "<table border=\"1\" class=\"dataframe\">\n",
       "  <thead>\n",
       "    <tr style=\"text-align: right;\">\n",
       "      <th>series</th>\n",
       "      <th>Ctry_Code</th>\n",
       "      <th>Year</th>\n",
       "      <th>NE.DAB.TOTL.ZS</th>\n",
       "      <th>NY.GDP.MKTP.CD</th>\n",
       "      <th>EG.ELC.RNWX.KH</th>\n",
       "      <th>EN.ATM.CO2E.GF.KT</th>\n",
       "    </tr>\n",
       "  </thead>\n",
       "  <tbody>\n",
       "    <tr>\n",
       "      <th>0</th>\n",
       "      <td>ARG</td>\n",
       "      <td>2014</td>\n",
       "      <td>0.539749</td>\n",
       "      <td>0.168759</td>\n",
       "      <td>0.035192</td>\n",
       "      <td>0.608272</td>\n",
       "    </tr>\n",
       "    <tr>\n",
       "      <th>1</th>\n",
       "      <td>ARG</td>\n",
       "      <td>2015</td>\n",
       "      <td>0.569823</td>\n",
       "      <td>0.190971</td>\n",
       "      <td>0.035619</td>\n",
       "      <td>0.618769</td>\n",
       "    </tr>\n",
       "    <tr>\n",
       "      <th>2</th>\n",
       "      <td>ARG</td>\n",
       "      <td>2016</td>\n",
       "      <td>0.569107</td>\n",
       "      <td>0.178891</td>\n",
       "      <td>0.000000</td>\n",
       "      <td>0.643360</td>\n",
       "    </tr>\n",
       "    <tr>\n",
       "      <th>3</th>\n",
       "      <td>BGD</td>\n",
       "      <td>2014</td>\n",
       "      <td>0.679885</td>\n",
       "      <td>0.054036</td>\n",
       "      <td>0.001929</td>\n",
       "      <td>0.289188</td>\n",
       "    </tr>\n",
       "    <tr>\n",
       "      <th>4</th>\n",
       "      <td>BGD</td>\n",
       "      <td>2015</td>\n",
       "      <td>0.684771</td>\n",
       "      <td>0.061240</td>\n",
       "      <td>0.002045</td>\n",
       "      <td>0.306881</td>\n",
       "    </tr>\n",
       "    <tr>\n",
       "      <th>5</th>\n",
       "      <td>BGD</td>\n",
       "      <td>2016</td>\n",
       "      <td>0.643019</td>\n",
       "      <td>0.069789</td>\n",
       "      <td>0.000000</td>\n",
       "      <td>0.337147</td>\n",
       "    </tr>\n",
       "    <tr>\n",
       "      <th>6</th>\n",
       "      <td>BGR</td>\n",
       "      <td>2014</td>\n",
       "      <td>0.570039</td>\n",
       "      <td>0.016447</td>\n",
       "      <td>0.036020</td>\n",
       "      <td>0.034049</td>\n",
       "    </tr>\n",
       "  </tbody>\n",
       "</table>\n",
       "</div>"
      ],
      "text/plain": [
       "series Ctry_Code  Year  NE.DAB.TOTL.ZS  NY.GDP.MKTP.CD  EG.ELC.RNWX.KH  \\\n",
       "0            ARG  2014        0.539749        0.168759        0.035192   \n",
       "1            ARG  2015        0.569823        0.190971        0.035619   \n",
       "2            ARG  2016        0.569107        0.178891        0.000000   \n",
       "3            BGD  2014        0.679885        0.054036        0.001929   \n",
       "4            BGD  2015        0.684771        0.061240        0.002045   \n",
       "5            BGD  2016        0.643019        0.069789        0.000000   \n",
       "6            BGR  2014        0.570039        0.016447        0.036020   \n",
       "\n",
       "series  EN.ATM.CO2E.GF.KT  \n",
       "0                0.608272  \n",
       "1                0.618769  \n",
       "2                0.643360  \n",
       "3                0.289188  \n",
       "4                0.306881  \n",
       "5                0.337147  \n",
       "6                0.034049  "
      ]
     },
     "execution_count": 7,
     "metadata": {},
     "output_type": "execute_result"
    }
   ],
   "source": [
    "#Normalization of the dfrm values\n",
    "df1 = dfrm.iloc[:,2:]\n",
    "dfrm.iloc[:,2:] = (df1-df1.min())/ (df1.max() - df1.min())\n",
    "dfrm.head(7)"
   ]
  },
  {
   "cell_type": "code",
   "execution_count": 8,
   "id": "118760ab",
   "metadata": {},
   "outputs": [],
   "source": [
    "#K-means type clustering\n",
    "df2 = dfrm.drop('Ctry_Code', axis = 1)\n",
    "kmens = KMeans(n_clusters=3, init='k-means++', random_state=0).fit(df2)"
   ]
  },
  {
   "cell_type": "code",
   "execution_count": 9,
   "id": "54f4113c",
   "metadata": {},
   "outputs": [
    {
     "data": {
      "image/png": "[encoded data removed]",
      "text/plain": [
       "<Figure size 432x288 with 1 Axes>"
      ]
     },
     "metadata": {
      "needs_background": "light"
     },
     "output_type": "display_data"
    }
   ],
   "source": [
    "#Clustering the value of total expenditure for different countries\n",
    "sns.scatterplot(data=dfrm, x=\"Ctry_Code\", y=\"NE.DAB.TOTL.ZS\", hue=kmens.labels_)\n",
    "plt.legend(loc='lower right')\n",
    "plt.show()"
   ]
  },
  {
   "cell_type": "code",
   "execution_count": 10,
   "id": "ab75e992",
   "metadata": {},
   "outputs": [
    {
     "data": {
      "image/png": "[encoded data removed]",
      "text/plain": [
       "<Figure size 432x288 with 1 Axes>"
      ]
     },
     "metadata": {
      "needs_background": "light"
     },
     "output_type": "display_data"
    }
   ],
   "source": [
    "#Scatter plot - Electricity production from renewable sources % vs GDP in GBR\n",
    "\n",
    "a=dfrm[(dfrm['Ctry_Code']=='GBR')]\n",
    "b = a.values\n",
    "x, y = b[:, 3], b[:, 4]\n",
    "plt.scatter(x, y,color=\"purple\")\n",
    "plt.xlabel('GDP for the country')\n",
    "plt.ylabel('Electricity production from renewable sources %')\n",
    "plt.show()"
   ]
  },
  {
   "cell_type": "code",
   "execution_count": 13,
   "id": "9cb22d19",
   "metadata": {},
   "outputs": [
    {
     "name": "stdout",
     "output_type": "stream",
     "text": [
      "Parameters value->:  [ 1.52839034e-305  6.62013102e-313 -7.44535683e-317]\n"
     ]
    },
    {
     "name": "stderr",
     "output_type": "stream",
     "text": [
      "C:\\Users\\alekh\\anaconda3\\lib\\site-packages\\scipy\\optimize\\minpack.py:833: OptimizeWarning: Covariance of the parameters could not be estimated\n",
      "  warnings.warn('Covariance of the parameters could not be estimated',\n"
     ]
    },
    {
     "data": {
      "image/png": "[encoded data removed]",
      "text/plain": [
       "<Figure size 432x288 with 1 Axes>"
      ]
     },
     "metadata": {
      "needs_background": "light"
     },
     "output_type": "display_data"
    }
   ],
   "source": [
    "#Using curve_fit to do the fitting for Bermuda which has a low total expenditure\n",
    "e=dfrm[(dfrm['Ctry_Code']=='BMU')]\n",
    "f = e.values\n",
    "x, y = f[:, 3], f[:, 4]\n",
    "\n",
    "def func(x, a, b, c):\n",
    "    return a*x**3+b*x+c\n",
    "pmtr, cova = curve_fit(func, x, y)\n",
    "pmtr, _ = curve_fit(func, x, y)\n",
    "print(\"Parameters value->: \", pmtr)\n",
    "\n",
    "a, b, c = pmtr[0], pmtr[1], pmtr[2]\n",
    "yfit =a*x**3+b*x+c\n",
    "\n",
    "import warnings\n",
    "\n",
    "with warnings.catch_warnings(record=True):\n",
    "    plt.plot(x, yfit, label=\"y=a*x**3+b*x+c\",color=\"purple\")\n",
    "    plt.grid(True)\n",
    "    plt.xlabel('GDP for the country')\n",
    "    plt.legend(loc='best', fancybox=True, shadow=True)\n",
    "    plt.plot(x, y, 'bo', label=\"Y orgnl value\",color=\"purple\")\n",
    "    plt.ylabel('Electricity production from renewable sources %')\n",
    "    plt.show() "
   ]
  },
  {
   "cell_type": "code",
   "execution_count": 11,
   "id": "28fc3ad0",
   "metadata": {},
   "outputs": [
    {
     "name": "stdout",
     "output_type": "stream",
     "text": [
      "Parameters value->:  [-56.14217118 155.71842561 -98.81657956]\n"
     ]
    },
    {
     "name": "stderr",
     "output_type": "stream",
     "text": [
      "C:\\Users\\alekh\\anaconda3\\lib\\site-packages\\scipy\\optimize\\minpack.py:833: OptimizeWarning: Covariance of the parameters could not be estimated\n",
      "  warnings.warn('Covariance of the parameters could not be estimated',\n"
     ]
    },
    {
     "data": {
      "image/png": "[encoded data removed]",
      "text/plain": [
       "<Figure size 432x288 with 1 Axes>"
      ]
     },
     "metadata": {
      "needs_background": "light"
     },
     "output_type": "display_data"
    }
   ],
   "source": [
    "#Using curve_fit to do the fitting for GBR which has a medium total expenditure\n",
    "x, y = b[:, 3], b[:, 4]\n",
    "\n",
    "def func(x, a, b, c):\n",
    "    return a*x**3+b*x+c\n",
    "pmtr, cova = curve_fit(func, x, y)\n",
    "pmtr, _ = curve_fit(func, x, y)\n",
    "print(\"Parameters value->: \", pmtr)\n",
    "\n",
    "a, b, c = pmtr[0], pmtr[1], pmtr[2]\n",
    "yfit =a*x**3+b*x+c\n",
    "\n",
    "import warnings\n",
    "\n",
    "with warnings.catch_warnings(record=True):\n",
    "    plt.plot(x, yfit, label=\"y=a*x**3+b*x+c\",color=\"purple\")\n",
    "    plt.grid(True)\n",
    "    plt.xlabel('GDP for the country')\n",
    "    plt.legend(loc='best', fancybox=True, shadow=True)\n",
    "    plt.plot(x, y, 'bo', label=\"Y orgnl value\",color=\"purple\")\n",
    "    plt.ylabel('Electricity production from renewable sources %')\n",
    "    plt.show() "
   ]
  },
  {
   "cell_type": "code",
   "execution_count": 14,
   "id": "56cbf04d",
   "metadata": {},
   "outputs": [
    {
     "name": "stdout",
     "output_type": "stream",
     "text": [
      "Parameters value->:  [ 2.35676711e+08 -4.33389209e+03  7.15307227e+00]\n"
     ]
    },
    {
     "name": "stderr",
     "output_type": "stream",
     "text": [
      "C:\\Users\\alekh\\anaconda3\\lib\\site-packages\\scipy\\optimize\\minpack.py:833: OptimizeWarning: Covariance of the parameters could not be estimated\n",
      "  warnings.warn('Covariance of the parameters could not be estimated',\n"
     ]
    },
    {
     "data": {
      "image/png": "[encoded data removed]",
      "text/plain": [
       "<Figure size 432x288 with 1 Axes>"
      ]
     },
     "metadata": {
      "needs_background": "light"
     },
     "output_type": "display_data"
    }
   ],
   "source": [
    "#Using curve_fit to do the fitting for Jamaica which has a high total expenditure\n",
    "h=dfrm[(dfrm['Ctry_Code']=='JAM')]\n",
    "j = h.values\n",
    "x, y = j[:, 3], j[:, 4]\n",
    "\n",
    "def func(x, a, b, c):\n",
    "    return a*x**3+b*x+c\n",
    "pmtr, cova = curve_fit(func, x, y)\n",
    "pmtr, _ = curve_fit(func, x, y)\n",
    "print(\"Parameters value->: \", pmtr)\n",
    "\n",
    "a, b, c = pmtr[0], pmtr[1], pmtr[2]\n",
    "yfit =a*x**3+b*x+c\n",
    "\n",
    "import warnings\n",
    "\n",
    "with warnings.catch_warnings(record=True):\n",
    "    plt.plot(x, yfit, label=\"y=a*x**3+b*x+c\",color=\"purple\")\n",
    "    plt.grid(True)\n",
    "    plt.xlabel('GDP for the country')\n",
    "    plt.legend(loc='best', fancybox=True, shadow=True)\n",
    "    plt.plot(x, y, 'bo', label=\"Y orgnl value\",color=\"purple\")\n",
    "    plt.ylabel('Electricity production from renewable sources %')\n",
    "    plt.show() "
   ]
  },
  {
   "cell_type": "markdown",
   "id": "914fb6dc",
   "metadata": {},
   "source": [
    "**It can be understood from the visualisations that the country with a high total expenditure has a direct relationship between GDP of the country and the electricity production from renewable sources %. For the country with a medium total expenditure, the relationship between GDP of the country and the electricity production from renewable sources % is direct till a certain GDP and after than it becomes indirect. For the country with a low total expenditure, the relationship between GDP of the country and the electricity production from renewable sources % is parallel to x axis**"
   ]
  },
  {
   "cell_type": "code",
   "execution_count": 12,
   "id": "7ef7d8ca",
   "metadata": {},
   "outputs": [],
   "source": [
    "def err_ranges(x, func, param, sigma):\n",
    "    \n",
    "    # initiate arrays for lower and upper limits\n",
    "    lower = func(x, *param)\n",
    "    upper = lower\n",
    "    \n",
    "    uplow = []   # list to hold upper and lower limits for parameters\n",
    "    for p,s in zip(param, sigma):\n",
    "        pmin = p - s\n",
    "        pmax = p + s\n",
    "        uplow.append((pmin, pmax))\n",
    "        \n",
    "    pmix = list(iter.product(*uplow))\n",
    "    \n",
    "    for p in pmix:\n",
    "        y = func(x, *p)\n",
    "        lower = np.minimum(lower, y)\n",
    "        upper = np.maximum(upper, y)\n",
    "        \n",
    "    return lower, upper "
   ]
  },
  {
   "cell_type": "code",
   "execution_count": null,
   "id": "72d2472d",
   "metadata": {},
   "outputs": [],
   "source": []
  },
  {
   "cell_type": "code",
   "execution_count": null,
   "id": "310b01c5",
   "metadata": {},
   "outputs": [],
   "source": []
  }
 ],
 "metadata": {
  "kernelspec": {
   "display_name": "Python 3 (ipykernel)",
   "language": "python",
   "name": "python3"
  },
  "language_info": {
   "codemirror_mode": {
    "name": "ipython",
    "version": 3
   },
   "file_extension": ".py",
   "mimetype": "text/x-python",
   "name": "python",
   "nbconvert_exporter": "python",
   "pygments_lexer": "ipython3",
   "version": "3.9.7"
  }
 },
 "nbformat": 4,
 "nbformat_minor": 5
}
